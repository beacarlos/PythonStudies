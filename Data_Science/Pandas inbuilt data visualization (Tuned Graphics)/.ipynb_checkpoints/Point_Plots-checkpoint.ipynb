{
 "cells": [
  {
   "cell_type": "code",
   "execution_count": 2,
   "metadata": {},
   "outputs": [],
   "source": [
    "import pandas as pd\n",
    "import seaborn as sns\n",
    "import numpy as np\n",
    "%matplotlib inline"
   ]
  },
  {
   "cell_type": "code",
   "execution_count": 14,
   "metadata": {},
   "outputs": [],
   "source": [
    "df1 = sns.load_dataset('tips')\n",
    "df2 = pd.read_csv('204.ece.csv')"
   ]
  },
  {
   "cell_type": "code",
   "execution_count": 16,
   "metadata": {},
   "outputs": [],
   "source": [
    "x1 = np.random.rand(100, 5)\n",
    "x2 = np.random.rand(10, 5)"
   ]
  },
  {
   "cell_type": "code",
   "execution_count": 34,
   "metadata": {},
   "outputs": [],
   "source": [
    "df3 = pd.DataFrame(x1, columns=['a','b','c','d','e'])\n",
    "df4 = pd.DataFrame(x2, columns=['w','y','x','z','k'])"
   ]
  },
  {
   "cell_type": "code",
   "execution_count": 35,
   "metadata": {},
   "outputs": [
    {
     "data": {
      "text/html": [
       "<div>\n",
       "<style scoped>\n",
       "    .dataframe tbody tr th:only-of-type {\n",
       "        vertical-align: middle;\n",
       "    }\n",
       "\n",
       "    .dataframe tbody tr th {\n",
       "        vertical-align: top;\n",
       "    }\n",
       "\n",
       "    .dataframe thead th {\n",
       "        text-align: right;\n",
       "    }\n",
       "</style>\n",
       "<table border=\"1\" class=\"dataframe\">\n",
       "  <thead>\n",
       "    <tr style=\"text-align: right;\">\n",
       "      <th></th>\n",
       "      <th>w</th>\n",
       "      <th>y</th>\n",
       "      <th>x</th>\n",
       "      <th>z</th>\n",
       "      <th>k</th>\n",
       "    </tr>\n",
       "  </thead>\n",
       "  <tbody>\n",
       "    <tr>\n",
       "      <td>0</td>\n",
       "      <td>0.535717</td>\n",
       "      <td>0.908311</td>\n",
       "      <td>0.597517</td>\n",
       "      <td>0.087486</td>\n",
       "      <td>0.449850</td>\n",
       "    </tr>\n",
       "    <tr>\n",
       "      <td>1</td>\n",
       "      <td>0.568614</td>\n",
       "      <td>0.738869</td>\n",
       "      <td>0.867402</td>\n",
       "      <td>0.011439</td>\n",
       "      <td>0.053664</td>\n",
       "    </tr>\n",
       "    <tr>\n",
       "      <td>2</td>\n",
       "      <td>0.337867</td>\n",
       "      <td>0.864985</td>\n",
       "      <td>0.297950</td>\n",
       "      <td>0.410628</td>\n",
       "      <td>0.458785</td>\n",
       "    </tr>\n",
       "    <tr>\n",
       "      <td>3</td>\n",
       "      <td>0.491291</td>\n",
       "      <td>0.112916</td>\n",
       "      <td>0.286856</td>\n",
       "      <td>0.753216</td>\n",
       "      <td>0.036291</td>\n",
       "    </tr>\n",
       "    <tr>\n",
       "      <td>4</td>\n",
       "      <td>0.278475</td>\n",
       "      <td>0.731519</td>\n",
       "      <td>0.096167</td>\n",
       "      <td>0.071178</td>\n",
       "      <td>0.186514</td>\n",
       "    </tr>\n",
       "    <tr>\n",
       "      <td>5</td>\n",
       "      <td>0.858650</td>\n",
       "      <td>0.603180</td>\n",
       "      <td>0.865482</td>\n",
       "      <td>0.114797</td>\n",
       "      <td>0.776464</td>\n",
       "    </tr>\n",
       "    <tr>\n",
       "      <td>6</td>\n",
       "      <td>0.532349</td>\n",
       "      <td>0.387570</td>\n",
       "      <td>0.823148</td>\n",
       "      <td>0.701503</td>\n",
       "      <td>0.631721</td>\n",
       "    </tr>\n",
       "    <tr>\n",
       "      <td>7</td>\n",
       "      <td>0.193062</td>\n",
       "      <td>0.026903</td>\n",
       "      <td>0.996595</td>\n",
       "      <td>0.853590</td>\n",
       "      <td>0.290595</td>\n",
       "    </tr>\n",
       "    <tr>\n",
       "      <td>8</td>\n",
       "      <td>0.114447</td>\n",
       "      <td>0.823327</td>\n",
       "      <td>0.678887</td>\n",
       "      <td>0.587307</td>\n",
       "      <td>0.527201</td>\n",
       "    </tr>\n",
       "    <tr>\n",
       "      <td>9</td>\n",
       "      <td>0.051590</td>\n",
       "      <td>0.126208</td>\n",
       "      <td>0.290194</td>\n",
       "      <td>0.475425</td>\n",
       "      <td>0.614853</td>\n",
       "    </tr>\n",
       "  </tbody>\n",
       "</table>\n",
       "</div>"
      ],
      "text/plain": [
       "          w         y         x         z         k\n",
       "0  0.535717  0.908311  0.597517  0.087486  0.449850\n",
       "1  0.568614  0.738869  0.867402  0.011439  0.053664\n",
       "2  0.337867  0.864985  0.297950  0.410628  0.458785\n",
       "3  0.491291  0.112916  0.286856  0.753216  0.036291\n",
       "4  0.278475  0.731519  0.096167  0.071178  0.186514\n",
       "5  0.858650  0.603180  0.865482  0.114797  0.776464\n",
       "6  0.532349  0.387570  0.823148  0.701503  0.631721\n",
       "7  0.193062  0.026903  0.996595  0.853590  0.290595\n",
       "8  0.114447  0.823327  0.678887  0.587307  0.527201\n",
       "9  0.051590  0.126208  0.290194  0.475425  0.614853"
      ]
     },
     "execution_count": 35,
     "metadata": {},
     "output_type": "execute_result"
    }
   ],
   "source": [
    "df4"
   ]
  }
 ],
 "metadata": {
  "kernelspec": {
   "display_name": "Python 3",
   "language": "python",
   "name": "python3"
  },
  "language_info": {
   "codemirror_mode": {
    "name": "ipython",
    "version": 3
   },
   "file_extension": ".py",
   "mimetype": "text/x-python",
   "name": "python",
   "nbconvert_exporter": "python",
   "pygments_lexer": "ipython3",
   "version": "3.7.4"
  }
 },
 "nbformat": 4,
 "nbformat_minor": 2
}
