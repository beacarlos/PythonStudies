{
 "cells": [
  {
   "cell_type": "code",
   "execution_count": 2,
   "metadata": {},
   "outputs": [],
   "source": [
    "import pandas as pd\n",
    "import seaborn as sns\n",
    "import numpy as np\n",
    "%matplotlib inline"
   ]
  },
  {
   "cell_type": "code",
   "execution_count": 3,
   "metadata": {},
   "outputs": [],
   "source": [
    "df1 = sns.load_dataset('tips')\n",
    "df2 = pd.read_csv('204.ece.csv')"
   ]
  },
  {
   "cell_type": "code",
   "execution_count": 4,
   "metadata": {},
   "outputs": [],
   "source": [
    "x1 = np.random.rand(100, 5)\n",
    "x2 = np.random.rand(10, 5)"
   ]
  },
  {
   "cell_type": "code",
   "execution_count": 5,
   "metadata": {},
   "outputs": [],
   "source": [
    "df3 = pd.DataFrame(x1, columns=['a','b','c','d','e'])\n",
    "df4 = pd.DataFrame(x2, columns=['w','y','x','z','k'])"
   ]
  },
  {
   "cell_type": "code",
   "execution_count": 8,
   "metadata": {},
   "outputs": [
    {
     "data": {
      "text/html": [
       "<div>\n",
       "<style scoped>\n",
       "    .dataframe tbody tr th:only-of-type {\n",
       "        vertical-align: middle;\n",
       "    }\n",
       "\n",
       "    .dataframe tbody tr th {\n",
       "        vertical-align: top;\n",
       "    }\n",
       "\n",
       "    .dataframe thead th {\n",
       "        text-align: right;\n",
       "    }\n",
       "</style>\n",
       "<table border=\"1\" class=\"dataframe\">\n",
       "  <thead>\n",
       "    <tr style=\"text-align: right;\">\n",
       "      <th></th>\n",
       "      <th>a</th>\n",
       "      <th>b</th>\n",
       "      <th>c</th>\n",
       "      <th>d</th>\n",
       "      <th>e</th>\n",
       "    </tr>\n",
       "  </thead>\n",
       "  <tbody>\n",
       "    <tr>\n",
       "      <td>0</td>\n",
       "      <td>0.640211</td>\n",
       "      <td>0.671433</td>\n",
       "      <td>0.976630</td>\n",
       "      <td>0.928378</td>\n",
       "      <td>0.275820</td>\n",
       "    </tr>\n",
       "    <tr>\n",
       "      <td>1</td>\n",
       "      <td>0.056110</td>\n",
       "      <td>0.276732</td>\n",
       "      <td>0.291097</td>\n",
       "      <td>0.301157</td>\n",
       "      <td>0.377191</td>\n",
       "    </tr>\n",
       "    <tr>\n",
       "      <td>2</td>\n",
       "      <td>0.696631</td>\n",
       "      <td>0.968086</td>\n",
       "      <td>0.061010</td>\n",
       "      <td>0.672938</td>\n",
       "      <td>0.556480</td>\n",
       "    </tr>\n",
       "    <tr>\n",
       "      <td>3</td>\n",
       "      <td>0.323001</td>\n",
       "      <td>0.855923</td>\n",
       "      <td>0.373114</td>\n",
       "      <td>0.241648</td>\n",
       "      <td>0.288890</td>\n",
       "    </tr>\n",
       "    <tr>\n",
       "      <td>4</td>\n",
       "      <td>0.041458</td>\n",
       "      <td>0.358356</td>\n",
       "      <td>0.132683</td>\n",
       "      <td>0.305515</td>\n",
       "      <td>0.630278</td>\n",
       "    </tr>\n",
       "    <tr>\n",
       "      <td>...</td>\n",
       "      <td>...</td>\n",
       "      <td>...</td>\n",
       "      <td>...</td>\n",
       "      <td>...</td>\n",
       "      <td>...</td>\n",
       "    </tr>\n",
       "    <tr>\n",
       "      <td>95</td>\n",
       "      <td>0.453876</td>\n",
       "      <td>0.683802</td>\n",
       "      <td>0.657785</td>\n",
       "      <td>0.842003</td>\n",
       "      <td>0.301505</td>\n",
       "    </tr>\n",
       "    <tr>\n",
       "      <td>96</td>\n",
       "      <td>0.849659</td>\n",
       "      <td>0.019881</td>\n",
       "      <td>0.766184</td>\n",
       "      <td>0.548599</td>\n",
       "      <td>0.365996</td>\n",
       "    </tr>\n",
       "    <tr>\n",
       "      <td>97</td>\n",
       "      <td>0.565891</td>\n",
       "      <td>0.107988</td>\n",
       "      <td>0.086233</td>\n",
       "      <td>0.479761</td>\n",
       "      <td>0.325453</td>\n",
       "    </tr>\n",
       "    <tr>\n",
       "      <td>98</td>\n",
       "      <td>0.879158</td>\n",
       "      <td>0.434182</td>\n",
       "      <td>0.457033</td>\n",
       "      <td>0.817112</td>\n",
       "      <td>0.641387</td>\n",
       "    </tr>\n",
       "    <tr>\n",
       "      <td>99</td>\n",
       "      <td>0.727563</td>\n",
       "      <td>0.535511</td>\n",
       "      <td>0.315437</td>\n",
       "      <td>0.797422</td>\n",
       "      <td>0.448951</td>\n",
       "    </tr>\n",
       "  </tbody>\n",
       "</table>\n",
       "<p>100 rows × 5 columns</p>\n",
       "</div>"
      ],
      "text/plain": [
       "           a         b         c         d         e\n",
       "0   0.640211  0.671433  0.976630  0.928378  0.275820\n",
       "1   0.056110  0.276732  0.291097  0.301157  0.377191\n",
       "2   0.696631  0.968086  0.061010  0.672938  0.556480\n",
       "3   0.323001  0.855923  0.373114  0.241648  0.288890\n",
       "4   0.041458  0.358356  0.132683  0.305515  0.630278\n",
       "..       ...       ...       ...       ...       ...\n",
       "95  0.453876  0.683802  0.657785  0.842003  0.301505\n",
       "96  0.849659  0.019881  0.766184  0.548599  0.365996\n",
       "97  0.565891  0.107988  0.086233  0.479761  0.325453\n",
       "98  0.879158  0.434182  0.457033  0.817112  0.641387\n",
       "99  0.727563  0.535511  0.315437  0.797422  0.448951\n",
       "\n",
       "[100 rows x 5 columns]"
      ]
     },
     "execution_count": 8,
     "metadata": {},
     "output_type": "execute_result"
    }
   ],
   "source": [
    "df3"
   ]
  },
  {
   "cell_type": "code",
   "execution_count": 11,
   "metadata": {},
   "outputs": [
    {
     "data": {
      "text/plain": [
       "<matplotlib.axes._subplots.AxesSubplot at 0x236e2f65dc8>"
      ]
     },
     "execution_count": 11,
     "metadata": {},
     "output_type": "execute_result"
    },
    {
     "data": {
      "image/png": "[encoded data removed]",
      "text/plain": [
       "<Figure size 432x288 with 1 Axes>"
      ]
     },
     "metadata": {
      "needs_background": "light"
     },
     "output_type": "display_data"
    }
   ],
   "source": [
    "df3.plot.scatter(x=['a','b'], y=['b','c'])"
   ]
  },
  {
   "cell_type": "code",
   "execution_count": null,
   "metadata": {},
   "outputs": [],
   "source": []
  }
 ],
 "metadata": {
  "kernelspec": {
   "display_name": "Python 3",
   "language": "python",
   "name": "python3"
  },
  "language_info": {
   "codemirror_mode": {
    "name": "ipython",
    "version": 3
   },
   "file_extension": ".py",
   "mimetype": "text/x-python",
   "name": "python",
   "nbconvert_exporter": "python",
   "pygments_lexer": "ipython3",
   "version": "3.7.4"
  }
 },
 "nbformat": 4,
 "nbformat_minor": 2
}
